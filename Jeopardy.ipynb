{
 "cells": [
  {
   "cell_type": "code",
   "execution_count": 3,
   "id": "90a289da",
   "metadata": {},
   "outputs": [],
   "source": [
    "import pandas as pd\n",
    "import datetime"
   ]
  },
  {
   "cell_type": "code",
   "execution_count": 4,
   "id": "4260ad27",
   "metadata": {},
   "outputs": [
    {
     "name": "stderr",
     "output_type": "stream",
     "text": [
      "C:\\Users\\MIKOLA~1\\AppData\\Local\\Temp/ipykernel_11392/1502773581.py:2: FutureWarning: Passing a negative integer is deprecated in version 1.0 and will not be supported in future version. Instead, use None to not limit the column width.\n",
      "  pd.set_option('display.max_colwidth', -1)\n"
     ]
    }
   ],
   "source": [
    "#set to see more columns\n",
    "pd.set_option('display.max_colwidth', -1)"
   ]
  },
  {
   "cell_type": "code",
   "execution_count": 5,
   "id": "e7a3f655",
   "metadata": {},
   "outputs": [],
   "source": [
    "#read csv file\n",
    "jeopardy = pd.read_csv('jeopardy.csv')"
   ]
  },
  {
   "cell_type": "code",
   "execution_count": 7,
   "id": "2e972d94",
   "metadata": {},
   "outputs": [
    {
     "name": "stdout",
     "output_type": "stream",
     "text": [
      "   Show Number    Air Date      Round                         Category  Value  \\\n",
      "0  4680         2004-12-31  Jeopardy!  HISTORY                          $200    \n",
      "1  4680         2004-12-31  Jeopardy!  ESPN's TOP 10 ALL-TIME ATHLETES  $200    \n",
      "2  4680         2004-12-31  Jeopardy!  EVERYBODY TALKS ABOUT IT...      $200    \n",
      "3  4680         2004-12-31  Jeopardy!  THE COMPANY LINE                 $200    \n",
      "4  4680         2004-12-31  Jeopardy!  EPITAPHS & TRIBUTES              $200    \n",
      "\n",
      "                                                                                                      Question  \\\n",
      "0  For the last 8 years of his life, Galileo was under house arrest for espousing this man's theory              \n",
      "1  No. 2: 1912 Olympian; football star at Carlisle Indian School; 6 MLB seasons with the Reds, Giants & Braves   \n",
      "2  The city of Yuma in this state has a record average of 4,055 hours of sunshine each year                      \n",
      "3  In 1963, live on \"The Art Linkletter Show\", this company served its billionth burger                          \n",
      "4  Signer of the Dec. of Indep., framer of the Constitution of Mass., second President of the United States      \n",
      "\n",
      "       Answer  \n",
      "0  Copernicus  \n",
      "1  Jim Thorpe  \n",
      "2  Arizona     \n",
      "3  McDonald's  \n",
      "4  John Adams  \n"
     ]
    }
   ],
   "source": [
    "#jeopardy DataFrame before pandas manipulating\n",
    "print(jeopardy.head())"
   ]
  },
  {
   "cell_type": "code",
   "execution_count": 8,
   "id": "f8982ccd",
   "metadata": {},
   "outputs": [],
   "source": [
    "#rename columns\n",
    "jeopardy.rename(columns={\n",
    "  ' Air Date': 'Air Date',\n",
    "  ' Round': 'Round',\n",
    "  ' Category': 'Category',\n",
    "  ' Value': 'Value',\n",
    "  ' Question': 'Question',\n",
    "  ' Answer': 'Answer'\n",
    "},inplace=True)"
   ]
  },
  {
   "cell_type": "code",
   "execution_count": 9,
   "id": "b13404b6",
   "metadata": {},
   "outputs": [],
   "source": [
    "#function that filters the dataset for questions that contains all of the words in a list of words\n",
    "def data_filter(data, words):\n",
    "  filter = lambda x: all(word.lower() in x.lower() for word in words)\n",
    "  return data.loc[data['Question'].apply(filter)]"
   ]
  },
  {
   "cell_type": "code",
   "execution_count": 16,
   "id": "f51bc4fb",
   "metadata": {},
   "outputs": [],
   "source": [
    "#adding new column with a float value\n",
    "jeopardy['Float Value'] = jeopardy['Value'].apply(lambda x: float(x.strip('$').replace(',','')) if x!= \"None\" else 0)"
   ]
  },
  {
   "cell_type": "code",
   "execution_count": 17,
   "id": "b84c6e20",
   "metadata": {},
   "outputs": [
    {
     "name": "stdout",
     "output_type": "stream",
     "text": [
      "        Show Number    Air Date             Round               Category  \\\n",
      "4953    3003         1997-09-24  Double Jeopardy!  \"PH\"UN WORDS            \n",
      "6337    3517         1999-12-14  Double Jeopardy!  Y1K                     \n",
      "9191    3907         2001-09-04  Double Jeopardy!  WON THE BATTLE          \n",
      "11710   2903         1997-03-26  Double Jeopardy!  BRITISH MONARCHS        \n",
      "13454   4726         2005-03-07  Jeopardy!         A NUMBER FROM 1 TO 10   \n",
      "...      ...                ...        ...                           ...   \n",
      "208295  4621         2004-10-11  Jeopardy!         THE VIKINGS             \n",
      "208742  4863         2005-11-02  Double Jeopardy!  BEFORE & AFTER          \n",
      "213870  5856         2010-02-15  Double Jeopardy!  URANUS                  \n",
      "216021  1881         1992-11-09  Double Jeopardy!  HISTORIC NAMES          \n",
      "216789  5070         2006-09-29  Double Jeopardy!  ANCIENT HISTORY         \n",
      "\n",
      "         Value  \\\n",
      "4953    $200     \n",
      "6337    $800     \n",
      "9191    $800     \n",
      "11710   $600     \n",
      "13454   $1000    \n",
      "...       ...    \n",
      "208295  $600     \n",
      "208742  $3,000   \n",
      "213870  $1600    \n",
      "216021  $1000    \n",
      "216789  $1200    \n",
      "\n",
      "                                                                                                      Question  \\\n",
      "4953    Both England's King George V & FDR put their stamp of approval on this \"King of Hobbies\"                 \n",
      "6337    In retaliation for Viking raids, this \"Unready\" king of England attacks Norse areas of the Isle of Man   \n",
      "9191    This king of England beat the odds to trounce the French in the 1415 Battle of Agincourt                 \n",
      "11710   This Scotsman, the first Stuart king of England, was called \"The Wisest Fool in Christendom\"             \n",
      "13454   It's the number that followed the last king of England named William                                     \n",
      "...                                                                      ...                                     \n",
      "208295  In 1066 this great-great grandson of Rollo made what some call the last Viking invasion of England       \n",
      "208742  Dutch-born king who ruled England jointly with Mary II & is a tasty New Zealand fish                     \n",
      "213870  In 1781 William Herschel discovered Uranus & initially named it after this king of England               \n",
      "216021  His nickname was \"Bertie\", but he used this name & number when he became king of England in 1901         \n",
      "216789  This kingdom of England grew from 2 settlements, one founded around 495 by Cerdic & his son Cynric       \n",
      "\n",
      "                              Answer  Float Value  \n",
      "4953    Philately (stamp collecting)  200.0        \n",
      "6337    Ethelred                      800.0        \n",
      "9191    Henry V                       800.0        \n",
      "11710   James I                       600.0        \n",
      "13454   4                             1000.0       \n",
      "...    ..                                ...       \n",
      "208295  William the Conqueror         600.0        \n",
      "208742  William of Orange roughy      3000.0       \n",
      "213870  George III                    1600.0       \n",
      "216021  Edward VII                    1000.0       \n",
      "216789  Wessex                        1200.0       \n",
      "\n",
      "[152 rows x 8 columns]\n"
     ]
    }
   ],
   "source": [
    "#filtering for words: \"King\" and \"England\"\n",
    "filtered = data_filter(jeopardy, [\"King\", \"England\"])\n",
    "print(filtered)"
   ]
  },
  {
   "cell_type": "code",
   "execution_count": 20,
   "id": "1658f2a6",
   "metadata": {},
   "outputs": [
    {
     "name": "stdout",
     "output_type": "stream",
     "text": [
      "Question\n",
      "\"Carolus Stuardus\" by Andreas Gryphius is about this executed king of England                                                                                                                                                                                                                                                                                                              1200.0\n",
      "\"More butcher than king in England\" is seen as this leader born in 1599, 33 years after Nostradamus died                                                                                                                                                                                                                                                                                   2000.0\n",
      "(<a href=\"http://www.j-archive.com/media/2000-03-02_J_22.jpg\" target=\"_blank\">Alex Trebek reads from England.</a>)  In 1214 barons fed up with King John met at the abbey whose ruins we see here; the result a year later was this charter                                                                                                                                                200.0 \n",
      "(<a href=\"http://www.j-archive.com/media/2005-05-30_DJ_26.jpg\" target=\"_blank\">Jimmy of the Clue Crew holds a block of cheese</a>.)  I'm in this Midwest state famous for making cheddar, which actually originated in a village in England                                                                                                                                                400.0 \n",
      "(<a href=\"http://www.j-archive.com/media/2010-07-26_DJ_10.jpg\" target=\"_blank\">Jimmy of the Clue Crew reports from in front of the Bayeux Tapestry.</a>)  The tapestry opens in 1064 with this childless king on England's throne; 11th century sources say the <a href=\"http://www.j-archive.com/media/2010-07-26_DJ_10.jpg\" target=\"_blank\">meeting</a> is about naming his successor    2000.0\n",
      "                                                                                                                                                                                                                                                                                                                                                                                            ...  \n",
      "When England's Queen Anne died, this German became king because he was a great grandson of James I                                                                                                                                                                                                                                                                                         800.0 \n",
      "While in England in 1760, John Hancock attended the coronation of this king                                                                                                                                                                                                                                                                                                                800.0 \n",
      "William the Conqueror was crowned King of England in Westminster Abbey on Christmas Day in this year                                                                                                                                                                                                                                                                                       400.0 \n",
      "Winchester, the county seat of Hampshire, was the capital of this Western Anglo-Saxon kingdom of England                                                                                                                                                                                                                                                                                   200.0 \n",
      "this man and his son ruled England following the execution of King Charles I                                                                                                                                                                                                                                                                                                               1000.0\n",
      "Name: Float Value, Length: 152, dtype: float64\n"
     ]
    }
   ],
   "source": [
    "#filtering for an average difficulty\n",
    "print(filtered.groupby('Question')['Float Value'].mean())"
   ]
  },
  {
   "cell_type": "code",
   "execution_count": 21,
   "id": "65d58249",
   "metadata": {},
   "outputs": [],
   "source": [
    "#function that returns the count of the unique answers to all of the questions in a dataset\n",
    "def unique_answers(data):\n",
    "  return data.groupby('Answer').nunique()"
   ]
  },
  {
   "cell_type": "code",
   "execution_count": 22,
   "id": "60ce525f",
   "metadata": {},
   "outputs": [
    {
     "name": "stdout",
     "output_type": "stream",
     "text": [
      "                              Show Number  Air Date  Round  Category  Value  \\\n",
      "Answer                                                                        \n",
      " Hamlet                       1            1         1      1         1       \n",
      " Les Miserables               1            1         1      1         1       \n",
      " Nosferatu                    1            1         1      1         1       \n",
      " She Loves You                1            1         1      1         1       \n",
      " Sleepless in Seattle         1            1         1      1         1       \n",
      "...                          ..           ..        ..     ..        ..       \n",
      "étoufée                       2            2         2      2         2       \n",
      "études                        1            1         1      1         1       \n",
      "été                           1            1         1      1         1       \n",
      "über                          1            1         1      1         1       \n",
      "“one giant leap for mankind”  1            1         1      1         1       \n",
      "\n",
      "                              Question  Float Value  \n",
      "Answer                                               \n",
      " Hamlet                       1         1            \n",
      " Les Miserables               1         1            \n",
      " Nosferatu                    1         1            \n",
      " She Loves You                1         1            \n",
      " Sleepless in Seattle         1         1            \n",
      "...                          ..        ..            \n",
      "étoufée                       2         2            \n",
      "études                        1         1            \n",
      "été                           1         1            \n",
      "über                          1         1            \n",
      "“one giant leap for mankind”  1         1            \n",
      "\n",
      "[88268 rows x 7 columns]\n"
     ]
    }
   ],
   "source": [
    "print(unique_answers(jeopardy))"
   ]
  },
  {
   "cell_type": "code",
   "execution_count": 23,
   "id": "036a4f4a",
   "metadata": {},
   "outputs": [],
   "source": [
    "#adding new column year and decades\n",
    "jeopardy['Year'] = pd.DatetimeIndex(jeopardy['Air Date']).year\n",
    "jeopardy['Decades'] = jeopardy['Year'].apply(lambda x: '2000s' if x>=2000 else '90s')"
   ]
  },
  {
   "cell_type": "code",
   "execution_count": 25,
   "id": "f62da35a",
   "metadata": {},
   "outputs": [],
   "source": [
    "#filtering for a word in question by decades\n",
    "by_decades_filtered = data_filter(jeopardy,['Computer'])"
   ]
  },
  {
   "cell_type": "code",
   "execution_count": 26,
   "id": "1f8bf0b1",
   "metadata": {},
   "outputs": [
    {
     "name": "stdout",
     "output_type": "stream",
     "text": [
      "Decades\n",
      "2000s    327\n",
      "90s      104\n",
      "Name: Category, dtype: int64\n"
     ]
    }
   ],
   "source": [
    "#investinge how many questions from the 90s use the word \"Computer\" compared to questions from the 2000s\n",
    "print(by_decades_filtered.groupby('Decades').Category.count())"
   ]
  },
  {
   "cell_type": "code",
   "execution_count": null,
   "id": "6edc68ae",
   "metadata": {},
   "outputs": [],
   "source": []
  }
 ],
 "metadata": {
  "kernelspec": {
   "display_name": "Python 3 (ipykernel)",
   "language": "python",
   "name": "python3"
  },
  "language_info": {
   "codemirror_mode": {
    "name": "ipython",
    "version": 3
   },
   "file_extension": ".py",
   "mimetype": "text/x-python",
   "name": "python",
   "nbconvert_exporter": "python",
   "pygments_lexer": "ipython3",
   "version": "3.9.7"
  }
 },
 "nbformat": 4,
 "nbformat_minor": 5
}
