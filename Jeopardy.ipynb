{
 "cells": [
  {
   "cell_type": "code",
   "execution_count": 2,
   "id": "90a289da",
   "metadata": {},
   "outputs": [],
   "source": [
    "import pandas as pd\n",
    "import datetime"
   ]
  },
  {
   "cell_type": "code",
   "execution_count": 3,
   "id": "4260ad27",
   "metadata": {},
   "outputs": [],
   "source": [
    "#set to see more columns\n",
    "pd.set_option('display.max_colwidth', 10)"
   ]
  },
  {
   "cell_type": "code",
   "execution_count": 4,
   "id": "e7a3f655",
   "metadata": {},
   "outputs": [],
   "source": [
    "#read csv file\n",
    "jeopardy = pd.read_csv('jeopardy.csv')"
   ]
  },
  {
   "cell_type": "code",
   "execution_count": 5,
   "id": "2e972d94",
   "metadata": {},
   "outputs": [
    {
     "name": "stdout",
     "output_type": "stream",
     "text": [
      "   Show Number   Air Date      Round   Category  Value   Question     Answer\n",
      "0       4680    2004-1...  Jeopardy!    HISTORY   $200  For th...  Copern...\n",
      "1       4680    2004-1...  Jeopardy!  ESPN's...   $200  No. 2:...  Jim Th...\n",
      "2       4680    2004-1...  Jeopardy!  EVERYB...   $200  The ci...    Arizona\n",
      "3       4680    2004-1...  Jeopardy!  THE CO...   $200  In 196...  McDona...\n",
      "4       4680    2004-1...  Jeopardy!  EPITAP...   $200  Signer...  John A...\n"
     ]
    }
   ],
   "source": [
    "#jeopardy DataFrame before pandas manipulating\n",
    "print(jeopardy.head())"
   ]
  },
  {
   "cell_type": "code",
   "execution_count": 6,
   "id": "f8982ccd",
   "metadata": {},
   "outputs": [],
   "source": [
    "#rename columns\n",
    "jeopardy.rename(columns={\n",
    "  ' Air Date': 'Air Date',\n",
    "  ' Round': 'Round',\n",
    "  ' Category': 'Category',\n",
    "  ' Value': 'Value',\n",
    "  ' Question': 'Question',\n",
    "  ' Answer': 'Answer'\n",
    "},inplace=True)"
   ]
  },
  {
   "cell_type": "code",
   "execution_count": 7,
   "id": "b13404b6",
   "metadata": {},
   "outputs": [],
   "source": [
    "#function that filters the dataset for questions that contains all of the words in a list of words\n",
    "def data_filter(data, words):\n",
    "  filter = lambda x: all(word.lower() in x.lower() for word in words)\n",
    "  return data.loc[data['Question'].apply(filter)]"
   ]
  },
  {
   "cell_type": "code",
   "execution_count": 8,
   "id": "f51bc4fb",
   "metadata": {},
   "outputs": [],
   "source": [
    "#adding new column with a float value\n",
    "jeopardy['Float Value'] = jeopardy['Value'].apply(lambda x: float(x.strip('$').replace(',','')) if x!= \"None\" else 0)"
   ]
  },
  {
   "cell_type": "code",
   "execution_count": 9,
   "id": "b84c6e20",
   "metadata": {},
   "outputs": [
    {
     "name": "stdout",
     "output_type": "stream",
     "text": [
      "        Show Number   Air Date      Round   Category   Value   Question  \\\n",
      "4953         3003    1997-0...  Double...  \"PH\"UN...    $200  Both E...   \n",
      "6337         3517    1999-1...  Double...        Y1K    $800  In ret...   \n",
      "9191         3907    2001-0...  Double...  WON TH...    $800  This k...   \n",
      "11710        2903    1997-0...  Double...  BRITIS...    $600  This S...   \n",
      "13454        4726    2005-0...  Jeopardy!  A NUMB...   $1000  It's t...   \n",
      "...           ...          ...        ...        ...     ...        ...   \n",
      "208295       4621    2004-1...  Jeopardy!  THE VI...    $600  In 106...   \n",
      "208742       4863    2005-1...  Double...  BEFORE...  $3,000  Dutch-...   \n",
      "213870       5856    2010-0...  Double...     URANUS   $1600  In 178...   \n",
      "216021       1881    1992-1...  Double...  HISTOR...   $1000  His ni...   \n",
      "216789       5070    2006-0...  Double...  ANCIEN...   $1200  This k...   \n",
      "\n",
      "           Answer  Float Value  \n",
      "4953    Philat...      200.0    \n",
      "6337     Ethelred      800.0    \n",
      "9191      Henry V      800.0    \n",
      "11710     James I      600.0    \n",
      "13454           4     1000.0    \n",
      "...           ...        ...    \n",
      "208295  Willia...      600.0    \n",
      "208742  Willia...     3000.0    \n",
      "213870  George...     1600.0    \n",
      "216021  Edward...     1000.0    \n",
      "216789     Wessex     1200.0    \n",
      "\n",
      "[152 rows x 8 columns]\n"
     ]
    }
   ],
   "source": [
    "#filtering for words: \"King\" and \"England\"\n",
    "filtered = data_filter(jeopardy, [\"King\", \"England\"])\n",
    "print(filtered)"
   ]
  },
  {
   "cell_type": "code",
   "execution_count": 10,
   "id": "1658f2a6",
   "metadata": {},
   "outputs": [
    {
     "name": "stdout",
     "output_type": "stream",
     "text": [
      "Question\n",
      "\"Carolus Stuardus\" by Andreas Gryphius is about this executed king of England                                                                                                                                                                                                                                                                                                              1200.0\n",
      "\"More butcher than king in England\" is seen as this leader born in 1599, 33 years after Nostradamus died                                                                                                                                                                                                                                                                                   2000.0\n",
      "(<a href=\"http://www.j-archive.com/media/2000-03-02_J_22.jpg\" target=\"_blank\">Alex Trebek reads from England.</a>)  In 1214 barons fed up with King John met at the abbey whose ruins we see here; the result a year later was this charter                                                                                                                                                 200.0\n",
      "(<a href=\"http://www.j-archive.com/media/2005-05-30_DJ_26.jpg\" target=\"_blank\">Jimmy of the Clue Crew holds a block of cheese</a>.)  I'm in this Midwest state famous for making cheddar, which actually originated in a village in England                                                                                                                                                 400.0\n",
      "(<a href=\"http://www.j-archive.com/media/2010-07-26_DJ_10.jpg\" target=\"_blank\">Jimmy of the Clue Crew reports from in front of the Bayeux Tapestry.</a>)  The tapestry opens in 1064 with this childless king on England's throne; 11th century sources say the <a href=\"http://www.j-archive.com/media/2010-07-26_DJ_10.jpg\" target=\"_blank\">meeting</a> is about naming his successor    2000.0\n",
      "                                                                                                                                                                                                                                                                                                                                                                                            ...  \n",
      "When England's Queen Anne died, this German became king because he was a great grandson of James I                                                                                                                                                                                                                                                                                          800.0\n",
      "While in England in 1760, John Hancock attended the coronation of this king                                                                                                                                                                                                                                                                                                                 800.0\n",
      "William the Conqueror was crowned King of England in Westminster Abbey on Christmas Day in this year                                                                                                                                                                                                                                                                                        400.0\n",
      "Winchester, the county seat of Hampshire, was the capital of this Western Anglo-Saxon kingdom of England                                                                                                                                                                                                                                                                                    200.0\n",
      "this man and his son ruled England following the execution of King Charles I                                                                                                                                                                                                                                                                                                               1000.0\n",
      "Name: Float Value, Length: 152, dtype: float64\n"
     ]
    }
   ],
   "source": [
    "#filtering for an average difficulty\n",
    "print(filtered.groupby('Question')['Float Value'].mean())"
   ]
  },
  {
   "cell_type": "code",
   "execution_count": 11,
   "id": "65d58249",
   "metadata": {},
   "outputs": [],
   "source": [
    "#function that returns the count of the unique answers to all of the questions in a dataset\n",
    "def unique_answers(data):\n",
    "  return data.groupby('Answer').nunique()"
   ]
  },
  {
   "cell_type": "code",
   "execution_count": 12,
   "id": "60ce525f",
   "metadata": {},
   "outputs": [
    {
     "name": "stdout",
     "output_type": "stream",
     "text": [
      "            Show Number  Air Date  Round  Category  Value  Question  \\\n",
      "Answer                                                                \n",
      " Hamlet             1           1      1         1      1         1   \n",
      " Les Mi...          1           1      1         1      1         1   \n",
      " Nosferatu          1           1      1         1      1         1   \n",
      " She Lo...          1           1      1         1      1         1   \n",
      " Sleepl...          1           1      1         1      1         1   \n",
      "...               ...         ...    ...       ...    ...       ...   \n",
      "étoufée             2           2      2         2      2         2   \n",
      "études              1           1      1         1      1         1   \n",
      "été                 1           1      1         1      1         1   \n",
      "über                1           1      1         1      1         1   \n",
      "“one gi...          1           1      1         1      1         1   \n",
      "\n",
      "            Float Value  \n",
      "Answer                   \n",
      " Hamlet             1    \n",
      " Les Mi...          1    \n",
      " Nosferatu          1    \n",
      " She Lo...          1    \n",
      " Sleepl...          1    \n",
      "...               ...    \n",
      "étoufée             2    \n",
      "études              1    \n",
      "été                 1    \n",
      "über                1    \n",
      "“one gi...          1    \n",
      "\n",
      "[88268 rows x 7 columns]\n"
     ]
    }
   ],
   "source": [
    "print(unique_answers(jeopardy))"
   ]
  },
  {
   "cell_type": "code",
   "execution_count": 13,
   "id": "036a4f4a",
   "metadata": {},
   "outputs": [],
   "source": [
    "#adding new column year and decades\n",
    "jeopardy['Year'] = pd.DatetimeIndex(jeopardy['Air Date']).year\n",
    "jeopardy['Decades'] = jeopardy['Year'].apply(lambda x: '2000s' if x>=2000 else '90s')"
   ]
  },
  {
   "cell_type": "code",
   "execution_count": 14,
   "id": "f62da35a",
   "metadata": {},
   "outputs": [],
   "source": [
    "#filtering for a word in question by decades\n",
    "by_decades_filtered = data_filter(jeopardy,['Computer'])"
   ]
  },
  {
   "cell_type": "code",
   "execution_count": 15,
   "id": "1f8bf0b1",
   "metadata": {},
   "outputs": [
    {
     "name": "stdout",
     "output_type": "stream",
     "text": [
      "Decades\n",
      "2000s    327\n",
      "90s      104\n",
      "Name: Category, dtype: int64\n"
     ]
    }
   ],
   "source": [
    "#investinge how many questions from the 90s use the word \"Computer\" compared to questions from the 2000s\n",
    "print(by_decades_filtered.groupby('Decades').Category.count())"
   ]
  },
  {
   "cell_type": "code",
   "execution_count": null,
   "id": "6edc68ae",
   "metadata": {},
   "outputs": [],
   "source": []
  }
 ],
 "metadata": {
  "kernelspec": {
   "display_name": "Python 3 (ipykernel)",
   "language": "python",
   "name": "python3"
  },
  "language_info": {
   "codemirror_mode": {
    "name": "ipython",
    "version": 3
   },
   "file_extension": ".py",
   "mimetype": "text/x-python",
   "name": "python",
   "nbconvert_exporter": "python",
   "pygments_lexer": "ipython3",
   "version": "3.9.7"
  }
 },
 "nbformat": 4,
 "nbformat_minor": 5
}
